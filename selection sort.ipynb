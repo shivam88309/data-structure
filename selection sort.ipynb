{
 "cells": [
  {
   "cell_type": "code",
   "execution_count": null,
   "id": "7fcb3936-673a-4d75-bf4b-0f6ea17e2f18",
   "metadata": {},
   "outputs": [],
   "source": [
    "def selection_sort(list):\n",
    "    size=len(list)\n",
    "    for i in range (i-1,size):\n",
    "        min=list[i]\n",
    "        posn=1\n",
    "        for j in range(i+1,size):\n",
    "            min=list[j]\n",
    "            posn=j\n",
    "\n",
    "            if j!=posn:\n",
    "                temp=list[i]\n",
    "                list[i]=list{posn]\n",
    "                list[posn]=temp\n",
    "\n",
    "n=int(input(\"enteeer the element: \"))\n",
    "lst=[]\n",
    "for i in range(n):\n",
    "    num=int(input(\"enter the element are: \"))\n",
    "    lst.append(num)\n",
    "\n",
    "    selection_sort(lst)\n",
    "    print\n",
    "        "
   ]
  }
 ],
 "metadata": {
  "kernelspec": {
   "display_name": "Python 3 (ipykernel)",
   "language": "python",
   "name": "python3"
  },
  "language_info": {
   "codemirror_mode": {
    "name": "ipython",
    "version": 3
   },
   "file_extension": ".py",
   "mimetype": "text/x-python",
   "name": "python",
   "nbconvert_exporter": "python",
   "pygments_lexer": "ipython3",
   "version": "3.12.7"
  }
 },
 "nbformat": 4,
 "nbformat_minor": 5
}
