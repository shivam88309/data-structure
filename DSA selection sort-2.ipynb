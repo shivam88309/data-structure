{
 "cells": [
  {
   "cell_type": "code",
   "execution_count": null,
   "id": "e007c86e-87db-4f17-82dd-abccfc7260c4",
   "metadata": {},
   "outputs": [
    {
     "name": "stdin",
     "output_type": "stream",
     "text": [
      "Enter number of elements: 5\n"
     ]
    }
   ],
   "source": [
    "def selection_sort(list):\n",
    "    size = len(list)\n",
    "    for i in range(size-1):\n",
    "        min = list[i]\n",
    "        posn=[i]\n",
    "        for j in range(i+1,size):\n",
    "            min=list[j]\n",
    "            posn=j\n",
    "        if j!=posn:\n",
    "           temp=list[i]\n",
    "           list[i]=list[posn]\n",
    "           list[posn]=temp\n",
    "\n",
    "n=int(input(\"Enter number of elements:\"))\n",
    "for i in range(n):\n",
    "    num=int(input(\"Enter elements:\"))\n",
    "    list.append(num)\n",
    "\n",
    "selection_sort(list)\n",
    "print(\"Enter elements are:\")\n",
    "for i in range(n):\n",
    "    print(list[i],end=\" \")\n",
    "        \n",
    "    "
   ]
  },
  {
   "cell_type": "code",
   "execution_count": null,
   "id": "45f8067a-6c44-475d-b048-d16872f41fdc",
   "metadata": {},
   "outputs": [],
   "source": []
  },
  {
   "cell_type": "code",
   "execution_count": null,
   "id": "99a44f22-9225-4749-9fad-4eb0261c977f",
   "metadata": {},
   "outputs": [],
   "source": []
  }
 ],
 "metadata": {
  "kernelspec": {
   "display_name": "Python 3 (ipykernel)",
   "language": "python",
   "name": "python3"
  },
  "language_info": {
   "codemirror_mode": {
    "name": "ipython",
    "version": 3
   },
   "file_extension": ".py",
   "mimetype": "text/x-python",
   "name": "python",
   "nbconvert_exporter": "python",
   "pygments_lexer": "ipython3",
   "version": "3.12.4"
  }
 },
 "nbformat": 4,
 "nbformat_minor": 5
}
