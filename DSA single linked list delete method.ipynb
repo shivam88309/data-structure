{
 "cells": [
  {
   "cell_type": "code",
   "execution_count": null,
   "id": "c1a0d0be-c614-4d4e-a5e4-d8174376afcb",
   "metadata": {},
   "outputs": [],
   "source": [
    "#Define a class for the node\n",
    "class Node:\n",
    "    def_init_(self,data):\n",
    "      self.data=data #data in the node\n",
    "      self.next=None #pointer to the next node\n",
    "\n"
   ]
  }
 ],
 "metadata": {
  "kernelspec": {
   "display_name": "Python 3 (ipykernel)",
   "language": "python",
   "name": "python3"
  },
  "language_info": {
   "codemirror_mode": {
    "name": "ipython",
    "version": 3
   },
   "file_extension": ".py",
   "mimetype": "text/x-python",
   "name": "python",
   "nbconvert_exporter": "python",
   "pygments_lexer": "ipython3",
   "version": "3.12.4"
  }
 },
 "nbformat": 4,
 "nbformat_minor": 5
}
