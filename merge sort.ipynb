{
 "cells": [
  {
   "cell_type": "code",
   "execution_count": null,
   "id": "a30225bc-361b-49a8-9a78-8a18d4bea3ec",
   "metadata": {},
   "outputs": [],
   "source": [
    "def MergeList(arr, lst, lend, rst, rend):\n",
    "    temp = []\n",
    "    i = lst  # i points to the beginning of the left subarray\n",
    "    j = rst  # j points to the beginning of the right subarray\n",
    "    # Merge the two subarrays into the temp list\n",
    "    while i <= lend and j <= rend:\n",
    "        if arr[i] < arr[j]:\n",
    "            temp.append(arr[i])\n",
    "            i += 1\n",
    "        else:\n",
    "            temp.append(arr[j])\n",
    "            j += 1\n",
    "    # If there are any remaining elements in the left subarray\n",
    "    while i <= lend:\n",
    "        temp.append(arr[i])\n",
    "        i += 1\n",
    "    # If there are any remaining elements in the right subarray\n",
    "    while j <= rend:\n",
    "        temp.append(arr[j])\n",
    "        j += 1\n",
    "    # Copy the sorted elements back into the original array\n",
    "    for i in range(lst, rend + 1):\n",
    "        arr[i] = temp[i - lst]\n",
    "\n",
    "def mergesort(arr, left, right):\n",
    "    if left < right:\n",
    "        mid = (left + right) // 2  # Correct mid calculation\n",
    "        # Recursively sort the two halves\n",
    "        mergesort(arr, left, mid)\n",
    "        mergesort(arr, mid + 1, right)\n",
    "        # Merge the sorted halves\n",
    "        MergeList(arr, left, mid, mid + 1, right)\n",
    "\n",
    "# Main program to input and test the sorting\n",
    "arr = []\n",
    "n = int(input(\"Enter number of elements: \"))\n",
    "for i in range(n):\n",
    "    arr.append(int(input(\"Enter element: \")))\n",
    "\n",
    "mergesort(arr, 0, n - 1)\n",
    "\n",
    "print(\"The sorted elements are:\")\n",
    "for i in range(n):\n",
    "    print(arr[i], end=\" \")\n"
   ]
  }
 ],
 "metadata": {
  "kernelspec": {
   "display_name": "Python 3 (ipykernel)",
   "language": "python",
   "name": "python3"
  },
  "language_info": {
   "codemirror_mode": {
    "name": "ipython",
    "version": 3
   },
   "file_extension": ".py",
   "mimetype": "text/x-python",
   "name": "python",
   "nbconvert_exporter": "python",
   "pygments_lexer": "ipython3",
   "version": "3.12.7"
  }
 },
 "nbformat": 4,
 "nbformat_minor": 5
}
