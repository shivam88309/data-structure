{
 "cells": [
  {
   "cell_type": "code",
   "execution_count": 9,
   "id": "7a9ed975-cc4c-40a2-95f3-7ca998a26e07",
   "metadata": {},
   "outputs": [
    {
     "name": "stdout",
     "output_type": "stream",
     "text": [
      "(10, 50)\n"
     ]
    }
   ],
   "source": [
    "#using function find min & max\n",
    "import numpy as np\n",
    "x=np.array([10,20,30,40,50])\n",
    "def min_max(x):\n",
    "    min=np.min(x)\n",
    "    max=np.max(x)\n",
    "    return min,max\n",
    "result=min_max(x)\n",
    "print(result)"
   ]
  },
  {
   "cell_type": "code",
   "execution_count": 3,
   "id": "cc1debfd-590b-4095-87a1-7d78a39f27f0",
   "metadata": {},
   "outputs": [
    {
     "name": "stdout",
     "output_type": "stream",
     "text": [
      "Original List:\n",
      "1 -> 2 -> 3 -> 4 -> None\n",
      "List After Deletion of 3:\n",
      "1 -> 2 -> 4 -> None\n",
      "Node with data 5 not found.\n"
     ]
    }
   ],
   "source": [
    "# Define a class for a node\n",
    "class Node:\n",
    "    def __init__(self, data):\n",
    "        self.data = data\n",
    "        self.next = None\n",
    "\n",
    "# Define a class for the linked list\n",
    "class LinkedList:\n",
    "    def __init__(self):\n",
    "        self.head = None\n",
    "\n",
    "    def append(self, data):\n",
    "        new_node = Node(data)\n",
    "        if not self.head:\n",
    "            self.head = new_node\n",
    "            return\n",
    "        last = self.head\n",
    "        while last.next:\n",
    "            last = last.next\n",
    "        last.next = new_node\n",
    "\n",
    "    # Delete a node by value\n",
    "    def delete(self, key):\n",
    "        # If the list is empty\n",
    "        if not self.head:\n",
    "            print(\"List is empty\")\n",
    "            return\n",
    "\n",
    "        # If the head node itself holds the key to be deleted\n",
    "        if self.head.data == key:\n",
    "            self.head = self.head.next\n",
    "            return\n",
    "\n",
    "        # Search for the key to be deleted\n",
    "        current = self.head\n",
    "        while current.next:\n",
    "            if current.next.data == key:\n",
    "                current.next = current.next.next\n",
    "                return\n",
    "            current = current.next\n",
    "        \n",
    "        print(f\"Node with data {key} not found.\")\n",
    "\n",
    "    # Print the linked list\n",
    "    def print_list(self):\n",
    "        temp = self.head\n",
    "        while temp:  # Traverse through the list\n",
    "            print(temp.data, end=\" -> \")\n",
    "            temp = temp.next\n",
    "        print(\"None\")\n",
    "\n",
    "# Create a linked list and perform operations\n",
    "linked_list = LinkedList()\n",
    "linked_list.append(1)\n",
    "linked_list.append(2)\n",
    "linked_list.append(3)\n",
    "linked_list.append(4)\n",
    "\n",
    "# Print the linked list before deletion\n",
    "print(\"Original List:\")\n",
    "linked_list.print_list()\n",
    "\n",
    "# Delete a node (e.g., node with value 3)\n",
    "linked_list.delete(3)\n",
    "\n",
    "# Print the linked list after deletion\n",
    "print(\"List After Deletion of 3:\")\n",
    "linked_list.print_list()\n",
    "\n",
    "# Attempt to delete a node that doesn't exist\n",
    "linked_list.delete(5)\n"
   ]
  },
  {
   "cell_type": "code",
   "execution_count": null,
   "id": "cb4b9a75-2216-4d9a-b790-e882cf1b9695",
   "metadata": {},
   "outputs": [],
   "source": []
  }
 ],
 "metadata": {
  "kernelspec": {
   "display_name": "Python 3 (ipykernel)",
   "language": "python",
   "name": "python3"
  },
  "language_info": {
   "codemirror_mode": {
    "name": "ipython",
    "version": 3
   },
   "file_extension": ".py",
   "mimetype": "text/x-python",
   "name": "python",
   "nbconvert_exporter": "python",
   "pygments_lexer": "ipython3",
   "version": "3.12.7"
  }
 },
 "nbformat": 4,
 "nbformat_minor": 5
}
