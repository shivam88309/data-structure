{
 "cells": [
  {
   "cell_type": "code",
   "execution_count": 1,
   "id": "e0a5de7d-42a1-4a85-a4d9-7b391a15d2ee",
   "metadata": {},
   "outputs": [
    {
     "name": "stdout",
     "output_type": "stream",
     "text": [
      "Original array: [1 2 3 4 5]\n"
     ]
    },
    {
     "ename": "NameError",
     "evalue": "name 'prod_ExceptSel' is not defined",
     "output_type": "error",
     "traceback": [
      "\u001b[0;31m---------------------------------------------------------------------------\u001b[0m",
      "\u001b[0;31mNameError\u001b[0m                                 Traceback (most recent call last)",
      "Cell \u001b[0;32mIn[1], line 12\u001b[0m\n\u001b[1;32m     10\u001b[0m     \u001b[38;5;28;01mreturn\u001b[39;00m res\n\u001b[1;32m     11\u001b[0m \u001b[38;5;28mprint\u001b[39m(\u001b[38;5;124m\"\u001b[39m\u001b[38;5;124mOriginal array:\u001b[39m\u001b[38;5;124m\"\u001b[39m,x)\n\u001b[0;32m---> 12\u001b[0m result\u001b[38;5;241m=\u001b[39mprod_ExceptSel(x)\n\u001b[1;32m     13\u001b[0m \u001b[38;5;28mprint\u001b[39m(\u001b[38;5;124m\"\u001b[39m\u001b[38;5;124mproduct Array:\u001b[39m\u001b[38;5;124m\"\u001b[39m,result)\n",
      "\u001b[0;31mNameError\u001b[0m: name 'prod_ExceptSel' is not defined"
     ]
    }
   ],
   "source": [
    "import numpy as np\n",
    "x= np.array([1,2,3,4,5])\n",
    "def prod_Exceptsel(x):\n",
    "    n=len(x)\n",
    "    res = [1]*n\n",
    "    for i in range(n):\n",
    "        for j in range(n):\n",
    "            if i !=j:\n",
    "                res [i] *=x[j]\n",
    "    return res\n",
    "print(\"Original array:\",x)\n",
    "result=prod_ExceptSel(x)\n",
    "print(\"product Array:\",result)"
   ]
  },
  {
   "cell_type": "code",
   "execution_count": null,
   "id": "9a6687ce-e9dd-4058-8f66-7799289dae28",
   "metadata": {},
   "outputs": [],
   "source": []
  }
 ],
 "metadata": {
  "kernelspec": {
   "display_name": "Python 3 (ipykernel)",
   "language": "python",
   "name": "python3"
  },
  "language_info": {
   "codemirror_mode": {
    "name": "ipython",
    "version": 3
   },
   "file_extension": ".py",
   "mimetype": "text/x-python",
   "name": "python",
   "nbconvert_exporter": "python",
   "pygments_lexer": "ipython3",
   "version": "3.12.4"
  }
 },
 "nbformat": 4,
 "nbformat_minor": 5
}
