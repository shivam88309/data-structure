{
 "cells": [
  {
   "cell_type": "code",
   "execution_count": 2,
   "id": "fad5648f-809c-461e-96ad-91584a3b19d5",
   "metadata": {},
   "outputs": [
    {
     "name": "stdin",
     "output_type": "stream",
     "text": [
      "Enter number of disks:  2\n"
     ]
    },
    {
     "name": "stdout",
     "output_type": "stream",
     "text": [
      "Move disk 1 from A to B\n",
      "Move disk 2 from A to C\n",
      "Move disk 1 from B to C\n"
     ]
    }
   ],
   "source": [
    "# 1 write a program to implement the tower of Hanoi problem\n",
    "def tower_of_hanoi(n, source, auxiliary, target):\n",
    "    if n == 1:\n",
    "        print(f\"Move disk 1 from {source} to {target}\")\n",
    "        return\n",
    "    tower_of_hanoi(n - 1, source, target, auxiliary)\n",
    "    print(f\"Move disk {n} from {source} to {target}\")\n",
    "    tower_of_hanoi(n - 1, auxiliary, source, target)\n",
    "\n",
    "# Example usage\n",
    "n = int(input(\"Enter number of disks: \"))\n",
    "tower_of_hanoi(n, 'A', 'B', 'C')\n",
    "\n"
   ]
  },
  {
   "cell_type": "code",
   "execution_count": 3,
   "id": "e3339662-8da4-40ea-9a32-a049705baec3",
   "metadata": {},
   "outputs": [
    {
     "name": "stdin",
     "output_type": "stream",
     "text": [
      "Enter a number:  2\n"
     ]
    },
    {
     "name": "stdout",
     "output_type": "stream",
     "text": [
      "The sum of digits of 2 is: 2\n"
     ]
    }
   ],
   "source": [
    "#2 Write a Program to find the sum of digits of a number using recursion\n",
    "def sum_of_digits(n):\n",
    "    # Base case: when n is 0, return 0\n",
    "    if n == 0:\n",
    "        return 0\n",
    "    else:\n",
    "        # Recursive case: sum the last digit and call the function with n // 10\n",
    "        return n % 10 + sum_of_digits(n // 10)\n",
    "\n",
    "# Example usage\n",
    "number = int(input(\"Enter a number: \"))\n",
    "result = sum_of_digits(number)\n",
    "print(f\"The sum of digits of {number} is: {result}\")\n"
   ]
  },
  {
   "cell_type": "code",
   "execution_count": 4,
   "id": "7902052b-c15d-4d97-a97d-dac3edb040eb",
   "metadata": {},
   "outputs": [
    {
     "name": "stdout",
     "output_type": "stream",
     "text": [
      "The GCD of 56 and 98 is 14\n"
     ]
    }
   ],
   "source": [
    "#3 Write a Recursive Function for GCD calculation\n",
    "def gcd(a, b):\n",
    "    # Base case: if b becomes 0, the GCD is a\n",
    "    if b == 0:\n",
    "        return a\n",
    "    # Recursive case: call gcd with b and the remainder of a divided by b\n",
    "    return gcd(b, a % b)\n",
    "\n",
    "# Example usage:\n",
    "a = 56\n",
    "b = 98\n",
    "print(f\"The GCD of {a} and {b} is {gcd(a, b)}\")\n"
   ]
  },
  {
   "cell_type": "code",
   "execution_count": 5,
   "id": "ea064616-526b-466e-9986-223cd54620cc",
   "metadata": {},
   "outputs": [
    {
     "name": "stdout",
     "output_type": "stream",
     "text": [
      "Fibonacci Series:\n",
      "0 1 2 5 8 21 34 89 144 377 "
     ]
    }
   ],
   "source": [
    "#4 write a program to print fibonacci series using mutual recursion\n",
    "def fibonacci_even(n, a=0, b=1):\n",
    "    # Base case: If n becomes 0, stop the recursion\n",
    "    if n <= 0:\n",
    "        return\n",
    "    print(a, end=\" \")\n",
    "    fibonacci_odd(n-1, b, a + b)\n",
    "\n",
    "def fibonacci_odd(n, a=0, b=1):\n",
    "    # Base case: If n becomes 0, stop the recursion\n",
    "    if n <= 0:\n",
    "        return\n",
    "    print(b, end=\" \")\n",
    "    fibonacci_even(n-1, a + b, a + 2 * b)\n",
    "\n",
    "# Example usage: Printing first 10 Fibonacci numbers\n",
    "n = 10\n",
    "print(\"Fibonacci Series:\")\n",
    "fibonacci_even(n)\n"
   ]
  },
  {
   "cell_type": "code",
   "execution_count": 6,
   "id": "6f49871c-ac26-4aa3-afe0-3b0f784da3ea",
   "metadata": {},
   "outputs": [
    {
     "name": "stdout",
     "output_type": "stream",
     "text": [
      "The binary equivalent of 13 is 1101\n"
     ]
    }
   ],
   "source": [
    "#5 write a recursive function to convert a decimal number to its equivalent binary number\n",
    "def decimal_to_binary(n):\n",
    "    # Base case: if n is 0, return an empty string\n",
    "    if n == 0:\n",
    "        return \"\"\n",
    "    else:\n",
    "        # Recursive case: divide n by 2 and append the remainder\n",
    "        return decimal_to_binary(n // 2) + str(n % 2)\n",
    "\n",
    "# Example usage:\n",
    "n = 13\n",
    "binary = decimal_to_binary(n)\n",
    "# Handle the case for 0, as it returns an empty string\n",
    "binary = binary if binary else \"0\"\n",
    "print(f\"The binary equivalent of {n} is {binary}\")\n",
    "\n"
   ]
  },
  {
   "cell_type": "code",
   "execution_count": 7,
   "id": "148067db-6f05-4be9-89d8-1f7c106e95e5",
   "metadata": {},
   "outputs": [
    {
     "name": "stdout",
     "output_type": "stream",
     "text": [
      "The number of zeroes in 1045020 is 3\n"
     ]
    }
   ],
   "source": [
    "#6 write a recursive function to count the numbers of zeroes in an integer\n",
    "def count_zeroes(n):\n",
    "    # Base case: if the number becomes 0, return 0 (no more digits to check)\n",
    "    if n == 0:\n",
    "        return 0\n",
    "    \n",
    "    # Check if the last digit is 0\n",
    "    last_digit = n % 10\n",
    "    if last_digit == 0:\n",
    "        return 1 + count_zeroes(n // 10)  # Add 1 and recurse for the rest of the number\n",
    "    else:\n",
    "        return count_zeroes(n // 10)  # Recurse for the rest of the number without adding\n",
    "\n",
    "# Example usage:\n",
    "n = 1045020\n",
    "print(f\"The number of zeroes in {n} is {count_zeroes(n)}\")\n"
   ]
  },
  {
   "cell_type": "code",
   "execution_count": 8,
   "id": "361ec6a6-d493-45fd-8fdf-42ab40de08bf",
   "metadata": {},
   "outputs": [
    {
     "name": "stdout",
     "output_type": "stream",
     "text": [
      "The sum of the first 5 natural numbers is 15\n"
     ]
    }
   ],
   "source": [
    "#7 Write a recursive function to find the sum of the first n natural number\n",
    "def sum_of_natural_numbers(n):\n",
    "    # Base case: if n is 0, the sum is 0\n",
    "    if n == 0:\n",
    "        return 0\n",
    "    # Recursive case: sum of n is n + sum of (n-1)\n",
    "    return n + sum_of_natural_numbers(n - 1)\n",
    "\n",
    "# Example usage:\n",
    "n = 5\n",
    "print(f\"The sum of the first {n} natural numbers is {sum_of_natural_numbers(n)}\")\n"
   ]
  },
  {
   "cell_type": "code",
   "execution_count": 9,
   "id": "6db2e3d5-2350-4ee6-a07e-16bd27d29ba3",
   "metadata": {},
   "outputs": [
    {
     "name": "stdout",
     "output_type": "stream",
     "text": [
      "The number of digits in 12345 is 5\n"
     ]
    }
   ],
   "source": [
    "#8 Write a recursive function to count the number of digit in an integer \n",
    "def count_digits(n):\n",
    "    # Base case: if the number is 0, return 0 (no digits)\n",
    "    if n == 0:\n",
    "        return 0\n",
    "    # Recursive case: 1 + count the digits of the rest of the number\n",
    "    return 1 + count_digits(n // 10)\n",
    "\n",
    "# Example usage:\n",
    "n = 12345\n",
    "print(f\"The number of digits in {n} is {count_digits(n)}\")\n"
   ]
  },
  {
   "cell_type": "code",
   "execution_count": 10,
   "id": "0eff1e92-863c-44f1-9d02-ce0cab23d6af",
   "metadata": {},
   "outputs": [
    {
     "name": "stdout",
     "output_type": "stream",
     "text": [
      "The number of odd digits in 123456 is 3\n"
     ]
    }
   ],
   "source": [
    "#9 Write a recursive function to count the number of odd digits in an integer \n",
    "def count_odd_digits(n):\n",
    "    # Base case: if n is 0, return 0 (no digits left)\n",
    "    if n == 0:\n",
    "        return 0\n",
    "    \n",
    "    # Check if the last digit is odd\n",
    "    last_digit = n % 10\n",
    "    if last_digit % 2 != 0:  # If the last digit is odd\n",
    "        return 1 + count_odd_digits(n // 10)  # Add 1 and recurse for the remaining digits\n",
    "    else:\n",
    "        return count_odd_digits(n // 10)  # Just recurse for the remaining digits\n",
    "\n",
    "# Example usage:\n",
    "n = 123456\n",
    "print(f\"The number of odd digits in {n} is {count_odd_digits(n)}\")\n"
   ]
  },
  {
   "cell_type": "code",
   "execution_count": 11,
   "id": "37eede72-ccab-4a92-867f-d508162854a6",
   "metadata": {},
   "outputs": [
    {
     "name": "stdout",
     "output_type": "stream",
     "text": [
      "The length of the string 'hello' is 5\n"
     ]
    }
   ],
   "source": [
    "#10 Write a recursive function to find the lenght of a string \n",
    "def string_length(s):\n",
    "    # Base case: if the string is empty, return 0\n",
    "    if s == \"\":\n",
    "        return 0\n",
    "    # Recursive case: 1 + length of the remaining string\n",
    "    return 1 + string_length(s[1:])\n",
    "\n",
    "# Example usage:\n",
    "s = \"hello\"\n",
    "print(f\"The length of the string '{s}' is {string_length(s)}\")\n"
   ]
  },
  {
   "cell_type": "code",
   "execution_count": 12,
   "id": "f1c66322-6055-48a2-b301-233c52f3bb3a",
   "metadata": {},
   "outputs": [
    {
     "name": "stdout",
     "output_type": "stream",
     "text": [
      "The number of digits in the string 'hello123world456' is 6\n"
     ]
    }
   ],
   "source": [
    "#11 Write a recursive function to count the number of digits in a string \n",
    "def count_digits_in_string(s):\n",
    "    # Base case: if the string is empty, return 0\n",
    "    if s == \"\":\n",
    "        return 0\n",
    "    \n",
    "    # Check if the first character is a digit\n",
    "    if s[0].isdigit():\n",
    "        return 1 + count_digits_in_string(s[1:])  # Add 1 and recurse for the rest of the string\n",
    "    else:\n",
    "        return count_digits_in_string(s[1:])  # Just recurse for the rest of the string\n",
    "\n",
    "# Example usage:\n",
    "s = \"hello123world456\"\n",
    "print(f\"The number of digits in the string '{s}' is {count_digits_in_string(s)}\")\n"
   ]
  },
  {
   "cell_type": "code",
   "execution_count": 13,
   "id": "30ca96b9-4d52-4482-be52-9e909474e232",
   "metadata": {},
   "outputs": [
    {
     "name": "stdout",
     "output_type": "stream",
     "text": [
      "Reversed string: olleh"
     ]
    }
   ],
   "source": [
    "#12 Write a recursive function to print a string in reverse order\n",
    "def reverse_string(s):\n",
    "    # Base case: if the string is empty, return\n",
    "    if s == \"\":\n",
    "        return\n",
    "    # Recursive case: print the last character and recurse with the rest of the string\n",
    "    print(s[-1], end=\"\")  # Print the last character\n",
    "    reverse_string(s[:-1])  # Recurse with the rest of the string\n",
    "\n",
    "# Example usage:\n",
    "s = \"hello\"\n",
    "print(\"Reversed string:\", end=\" \")\n",
    "reverse_string(s)\n"
   ]
  },
  {
   "cell_type": "code",
   "execution_count": 14,
   "id": "8e9a0905-4fe4-45a1-9f12-70f23ff34418",
   "metadata": {},
   "outputs": [
    {
     "name": "stdout",
     "output_type": "stream",
     "text": [
      "The number of vowels in the string 'hello world' is 3\n"
     ]
    }
   ],
   "source": [
    "#13 Write a recursive Function to count the numbers of vowels in a string \n",
    "def count_vowels(s):\n",
    "    # Base case: if the string is empty, return 0\n",
    "    if s == \"\":\n",
    "        return 0\n",
    "    \n",
    "    # Check if the first character is a vowel (a, e, i, o, u)\n",
    "    if s[0].lower() in 'aeiou':\n",
    "        return 1 + count_vowels(s[1:])  # Add 1 and recurse for the rest of the string\n",
    "    else:\n",
    "        return count_vowels(s[1:])  # Just recurse for the rest of the string\n",
    "\n",
    "# Example usage:\n",
    "s = \"hello world\"\n",
    "print(f\"The number of vowels in the string '{s}' is {count_vowels(s)}\")\n"
   ]
  },
  {
   "cell_type": "code",
   "execution_count": null,
   "id": "c1ead969-9ec2-4531-b03a-4a31dbc3f388",
   "metadata": {},
   "outputs": [],
   "source": []
  }
 ],
 "metadata": {
  "kernelspec": {
   "display_name": "Python 3 (ipykernel)",
   "language": "python",
   "name": "python3"
  },
  "language_info": {
   "codemirror_mode": {
    "name": "ipython",
    "version": 3
   },
   "file_extension": ".py",
   "mimetype": "text/x-python",
   "name": "python",
   "nbconvert_exporter": "python",
   "pygments_lexer": "ipython3",
   "version": "3.12.4"
  }
 },
 "nbformat": 4,
 "nbformat_minor": 5
}
