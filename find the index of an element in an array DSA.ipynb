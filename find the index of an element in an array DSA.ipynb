{
 "cells": [
  {
   "cell_type": "code",
   "execution_count": 7,
   "id": "2e686814-e05b-4b9b-bda8-52bec8fe501d",
   "metadata": {},
   "outputs": [
    {
     "name": "stdin",
     "output_type": "stream",
     "text": [
      "Enter the element to find:  20\n"
     ]
    },
    {
     "name": "stdout",
     "output_type": "stream",
     "text": [
      "1\n"
     ]
    }
   ],
   "source": [
    "import numpy as np\n",
    "\n",
    "x = np.array([10, 20, 30, 40, 50, 60])\n",
    "s_ele = int(input(\"Enter the element to find: \"))\n",
    "\n",
    "def i_ele(x, s_ele):\n",
    "    try:\n",
    "        n = len(x)\n",
    "        for i in range(n):\n",
    "            if x[i] == s_ele:\n",
    "                return i\n",
    "        raise ValueError(\"Element not found\")\n",
    "    except:\n",
    "        return -1\n",
    "\n",
    "result = i_ele(x, s_ele)\n",
    "print(result)"
   ]
  },
  {
   "cell_type": "code",
   "execution_count": null,
   "id": "93758f46-fe0f-4ede-9b00-ba64118a1525",
   "metadata": {},
   "outputs": [],
   "source": []
  }
 ],
 "metadata": {
  "kernelspec": {
   "display_name": "Python 3 (ipykernel)",
   "language": "python",
   "name": "python3"
  },
  "language_info": {
   "codemirror_mode": {
    "name": "ipython",
    "version": 3
   },
   "file_extension": ".py",
   "mimetype": "text/x-python",
   "name": "python",
   "nbconvert_exporter": "python",
   "pygments_lexer": "ipython3",
   "version": "3.12.4"
  }
 },
 "nbformat": 4,
 "nbformat_minor": 5
}
